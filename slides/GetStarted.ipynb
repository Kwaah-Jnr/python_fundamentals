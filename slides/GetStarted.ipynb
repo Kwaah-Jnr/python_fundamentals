{
 "nbformat": 4,
 "nbformat_minor": 2,
 "metadata": {
  "language_info": {
   "name": "python",
   "codemirror_mode": {
    "name": "ipython",
    "version": 3
   }
  },
  "orig_nbformat": 2,
  "file_extension": ".py",
  "mimetype": "text/x-python",
  "name": "python",
  "npconvert_exporter": "python",
  "pygments_lexer": "ipython3",
  "version": 3
 },
 "cells": [
  {
   "cell_type": "code",
   "execution_count": null,
   "metadata": {},
   "outputs": [
    {
     "output_type": "error",
     "ename": "Error",
     "evalue": "Jupyter cannot be started. Error attempting to locate jupyter: Data Science libraries jupyter and notebook are not installed in interpreter Python 3.7.3 64-bit.",
     "traceback": [
      "Error: Jupyter cannot be started. Error attempting to locate jupyter: Data Science libraries jupyter and notebook are not installed in interpreter Python 3.7.3 64-bit.",
      "at A.startServer (/Users/damiliner/.vscode/extensions/ms-python.python-2020.2.64397/out/client/extension.js:1:786120)",
      "at async A.ensureServerAndNotebookImpl (/Users/damiliner/.vscode/extensions/ms-python.python-2020.2.64397/out/client/extension.js:1:785575)",
      "at async A.ensureServerAndNotebook (/Users/damiliner/.vscode/extensions/ms-python.python-2020.2.64397/out/client/extension.js:1:785376)",
      "at async A.submitCode (/Users/damiliner/.vscode/extensions/ms-python.python-2020.2.64397/out/client/extension.js:1:782328)",
      "at async A.reexecuteCell (/Users/damiliner/.vscode/extensions/ms-python.python-2020.2.64397/out/client/extension.js:75:879318)"
     ]
    }
   ],
   "source": [
    "print(4+2)"
   ]
  },
  {
   "cell_type": "code",
   "execution_count": null,
   "metadata": {},
   "outputs": [],
   "source": []
  }
 ]
}